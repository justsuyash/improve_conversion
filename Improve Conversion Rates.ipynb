{
 "cells": [
  {
   "cell_type": "code",
   "execution_count": 1,
   "id": "38249716",
   "metadata": {},
   "outputs": [],
   "source": [
    "import seaborn as sns\n",
    "import matplotlib.pyplot as plt\n"
   ]
  },
  {
   "cell_type": "code",
   "execution_count": 2,
   "id": "11af4266",
   "metadata": {},
   "outputs": [
    {
     "name": "stdout",
     "output_type": "stream",
     "text": [
      "  country  age  new_user source  total_pages_visited  converted\n",
      "0      UK   25         1    Ads                    1          0\n",
      "1      US   23         1    Seo                    5          0\n",
      "2      US   28         1    Seo                    4          0\n",
      "3   China   39         1    Seo                    5          0\n",
      "4      US   30         1    Seo                    6          0\n"
     ]
    }
   ],
   "source": [
    "import pandas as pd\n",
    "pd.set_option('display.max_columns', 10)\n",
    "pd.set_option('display.width', 350)\n",
    "  \n",
    "#read from google drive\n",
    "data=pd.read_csv(\"https://drive.google.com/uc?export=download&id=1LU5be_H1TD2Pp1OmI202to3YyKo9AzFY\")\n",
    "  \n",
    "print(data.head())"
   ]
  },
  {
   "cell_type": "markdown",
   "id": "d49dbdef",
   "metadata": {},
   "source": [
    "## Describe and Groupby Are the Best places to Start`"
   ]
  },
  {
   "cell_type": "code",
   "execution_count": 3,
   "id": "a7c45878",
   "metadata": {},
   "outputs": [
    {
     "data": {
      "text/html": [
       "<div>\n",
       "<style scoped>\n",
       "    .dataframe tbody tr th:only-of-type {\n",
       "        vertical-align: middle;\n",
       "    }\n",
       "\n",
       "    .dataframe tbody tr th {\n",
       "        vertical-align: top;\n",
       "    }\n",
       "\n",
       "    .dataframe thead th {\n",
       "        text-align: right;\n",
       "    }\n",
       "</style>\n",
       "<table border=\"1\" class=\"dataframe\">\n",
       "  <thead>\n",
       "    <tr style=\"text-align: right;\">\n",
       "      <th></th>\n",
       "      <th>age</th>\n",
       "      <th>new_user</th>\n",
       "      <th>total_pages_visited</th>\n",
       "      <th>converted</th>\n",
       "    </tr>\n",
       "  </thead>\n",
       "  <tbody>\n",
       "    <tr>\n",
       "      <th>count</th>\n",
       "      <td>316200.000000</td>\n",
       "      <td>316200.000000</td>\n",
       "      <td>316200.000000</td>\n",
       "      <td>316200.000000</td>\n",
       "    </tr>\n",
       "    <tr>\n",
       "      <th>mean</th>\n",
       "      <td>30.569858</td>\n",
       "      <td>0.685465</td>\n",
       "      <td>4.872966</td>\n",
       "      <td>0.032258</td>\n",
       "    </tr>\n",
       "    <tr>\n",
       "      <th>std</th>\n",
       "      <td>8.271802</td>\n",
       "      <td>0.464331</td>\n",
       "      <td>3.341104</td>\n",
       "      <td>0.176685</td>\n",
       "    </tr>\n",
       "    <tr>\n",
       "      <th>min</th>\n",
       "      <td>17.000000</td>\n",
       "      <td>0.000000</td>\n",
       "      <td>1.000000</td>\n",
       "      <td>0.000000</td>\n",
       "    </tr>\n",
       "    <tr>\n",
       "      <th>25%</th>\n",
       "      <td>24.000000</td>\n",
       "      <td>0.000000</td>\n",
       "      <td>2.000000</td>\n",
       "      <td>0.000000</td>\n",
       "    </tr>\n",
       "    <tr>\n",
       "      <th>50%</th>\n",
       "      <td>30.000000</td>\n",
       "      <td>1.000000</td>\n",
       "      <td>4.000000</td>\n",
       "      <td>0.000000</td>\n",
       "    </tr>\n",
       "    <tr>\n",
       "      <th>75%</th>\n",
       "      <td>36.000000</td>\n",
       "      <td>1.000000</td>\n",
       "      <td>7.000000</td>\n",
       "      <td>0.000000</td>\n",
       "    </tr>\n",
       "    <tr>\n",
       "      <th>max</th>\n",
       "      <td>123.000000</td>\n",
       "      <td>1.000000</td>\n",
       "      <td>29.000000</td>\n",
       "      <td>1.000000</td>\n",
       "    </tr>\n",
       "  </tbody>\n",
       "</table>\n",
       "</div>"
      ],
      "text/plain": [
       "                 age       new_user  total_pages_visited      converted\n",
       "count  316200.000000  316200.000000        316200.000000  316200.000000\n",
       "mean       30.569858       0.685465             4.872966       0.032258\n",
       "std         8.271802       0.464331             3.341104       0.176685\n",
       "min        17.000000       0.000000             1.000000       0.000000\n",
       "25%        24.000000       0.000000             2.000000       0.000000\n",
       "50%        30.000000       1.000000             4.000000       0.000000\n",
       "75%        36.000000       1.000000             7.000000       0.000000\n",
       "max       123.000000       1.000000            29.000000       1.000000"
      ]
     },
     "execution_count": 3,
     "metadata": {},
     "output_type": "execute_result"
    }
   ],
   "source": [
    "data.describe()"
   ]
  },
  {
   "cell_type": "code",
   "execution_count": 4,
   "id": "a0af6249",
   "metadata": {},
   "outputs": [
    {
     "data": {
      "text/plain": [
       "country\n",
       "China       76602\n",
       "Germany     13056\n",
       "UK          48450\n",
       "US         178092\n",
       "dtype: int64"
      ]
     },
     "execution_count": 4,
     "metadata": {},
     "output_type": "execute_result"
    }
   ],
   "source": [
    "data.groupby('country').size()"
   ]
  },
  {
   "cell_type": "code",
   "execution_count": 5,
   "id": "fd07d7fb",
   "metadata": {},
   "outputs": [
    {
     "data": {
      "text/plain": [
       "source\n",
       "Ads        88740\n",
       "Direct     72420\n",
       "Seo       155040\n",
       "dtype: int64"
      ]
     },
     "execution_count": 5,
     "metadata": {},
     "output_type": "execute_result"
    }
   ],
   "source": [
    "data.groupby('source').size()"
   ]
  },
  {
   "cell_type": "markdown",
   "id": "abfa8874",
   "metadata": {},
   "source": [
    "## Lets Check Age"
   ]
  },
  {
   "cell_type": "code",
   "execution_count": 6,
   "id": "c2d6072e",
   "metadata": {},
   "outputs": [
    {
     "data": {
      "text/plain": [
       "array([123, 111,  79,  77,  73,  72,  70,  69,  68,  67,  66,  65,  64,\n",
       "        63,  62,  61,  60,  59,  58,  57,  56,  55,  54,  53,  52,  51,\n",
       "        50,  49,  48,  47,  46,  45,  44,  43,  42,  41,  40,  39,  38,\n",
       "        37,  36,  35,  34,  33,  32,  31,  30,  29,  28,  27,  26,  25,\n",
       "        24,  23,  22,  21,  20,  19,  18,  17], dtype=int64)"
      ]
     },
     "execution_count": 6,
     "metadata": {},
     "output_type": "execute_result"
    }
   ],
   "source": [
    "data.age.sort_values(ascending=False).unique()"
   ]
  },
  {
   "cell_type": "markdown",
   "id": "ff8b7453",
   "metadata": {},
   "source": [
    "### Dropping Extra Age"
   ]
  },
  {
   "cell_type": "code",
   "execution_count": 7,
   "id": "7b927f5e",
   "metadata": {},
   "outputs": [],
   "source": [
    "data = data[data['age']<110]"
   ]
  },
  {
   "cell_type": "markdown",
   "id": "823212ba",
   "metadata": {},
   "source": [
    "## Country Conversion Rate"
   ]
  },
  {
   "cell_type": "code",
   "execution_count": 8,
   "id": "e5b77de5",
   "metadata": {},
   "outputs": [
    {
     "name": "stderr",
     "output_type": "stream",
     "text": [
      "C:\\Users\\aratr\\anaconda3\\lib\\site-packages\\seaborn\\_decorators.py:36: FutureWarning: Pass the following variables as keyword args: x, y. From version 0.12, the only valid positional argument will be `data`, and passing other arguments without an explicit keyword will result in an error or misinterpretation.\n",
      "  warnings.warn(\n"
     ]
    },
    {
     "data": {
      "text/plain": [
       "<AxesSubplot:xlabel='country', ylabel='converted'>"
      ]
     },
     "execution_count": 8,
     "metadata": {},
     "output_type": "execute_result"
    },
    {
     "data": {
      "image/png": "[encoded data removed]",
      "text/plain": [
       "<Figure size 432x288 with 1 Axes>"
      ]
     },
     "metadata": {
      "needs_background": "light"
     },
     "output_type": "display_data"
    }
   ],
   "source": [
    "sns.barplot(pd.DataFrame(data.groupby(['country'])['converted'].mean()).reset_index()['country'],pd.DataFrame(data.groupby(['country'])['converted'].mean()).reset_index()['converted'])"
   ]
  },
  {
   "cell_type": "markdown",
   "id": "502cd1f2",
   "metadata": {},
   "source": [
    "# China converts at a lower conversion Rate"
   ]
  },
  {
   "cell_type": "code",
   "execution_count": 9,
   "id": "dd71fea3",
   "metadata": {},
   "outputs": [
    {
     "data": {
      "text/plain": [
       "<AxesSubplot:xlabel='total_pages_visited'>"
      ]
     },
     "execution_count": 9,
     "metadata": {},
     "output_type": "execute_result"
    },
    {
     "data": {
      "image/png": "[encoded data removed]",
      "text/plain": [
       "<Figure size 432x288 with 1 Axes>"
      ]
     },
     "metadata": {
      "needs_background": "light"
     },
     "output_type": "display_data"
    }
   ],
   "source": [
    "data.groupby(['total_pages_visited'])['converted'].mean().plot()"
   ]
  },
  {
   "cell_type": "markdown",
   "id": "9ca6e28c",
   "metadata": {},
   "source": [
    "# This makes Sense as higher the page visit, higher the conversion"
   ]
  },
  {
   "cell_type": "markdown",
   "id": "584909c5",
   "metadata": {},
   "source": [
    "## Creating Dummies"
   ]
  },
  {
   "cell_type": "code",
   "execution_count": 10,
   "id": "e3a5f514",
   "metadata": {},
   "outputs": [],
   "source": [
    "data_dummy = pd.get_dummies(data,drop_first=True)"
   ]
  },
  {
   "cell_type": "markdown",
   "id": "418e3b33",
   "metadata": {},
   "source": [
    "## Building a Model"
   ]
  },
  {
   "cell_type": "code",
   "execution_count": 11,
   "id": "3e18b065",
   "metadata": {},
   "outputs": [],
   "source": [
    "from sklearn.ensemble import RandomForestClassifier\n",
    "from sklearn.model_selection import train_test_split\n",
    "from sklearn.metrics import confusion_matrix,ConfusionMatrixDisplay"
   ]
  },
  {
   "cell_type": "code",
   "execution_count": 12,
   "id": "b42c3677",
   "metadata": {},
   "outputs": [],
   "source": [
    "train, test = train_test_split(data_dummy,test_size=0.34)"
   ]
  },
  {
   "cell_type": "code",
   "execution_count": 13,
   "id": "f088c7c0",
   "metadata": {},
   "outputs": [],
   "source": [
    "rf =  RandomForestClassifier(n_estimators=100,max_features=3,oob_score=True)"
   ]
  },
  {
   "cell_type": "code",
   "execution_count": 14,
   "id": "80140698",
   "metadata": {},
   "outputs": [
    {
     "name": "stdout",
     "output_type": "stream",
     "text": [
      "OOB accuracy is 0.9844458287411951 \n",
      " OOB Confusion Matrix \n",
      "         0     1\n",
      "0  200898  1051\n",
      "1    2195  4546\n"
     ]
    }
   ],
   "source": [
    "rf.fit(train.drop('converted', axis=1), train['converted'])\n",
    "  \n",
    "#let's print OOB accuracy and confusion matrix\n",
    "print(\n",
    "\"OOB accuracy is\", \n",
    "rf.oob_score_, \n",
    "\"\\n\", \n",
    "\"OOB Confusion Matrix\", \n",
    "\"\\n\",\n",
    "pd.DataFrame(confusion_matrix(train['converted'], rf.oob_decision_function_[:,1].round(), labels=[0, 1]))\n",
    ")"
   ]
  },
  {
   "cell_type": "code",
   "execution_count": 15,
   "id": "0d25f253",
   "metadata": {},
   "outputs": [
    {
     "name": "stdout",
     "output_type": "stream",
     "text": [
      "Test accuracy is 0.9840197938758046 \n",
      " Test Set Confusion Matrix \n",
      "         0     1\n",
      "0  103525   526\n",
      "1    1192  2265\n"
     ]
    }
   ],
   "source": [
    "#and let's print test accuracy and confusion matrix\n",
    "print(\n",
    "\"Test accuracy is\", rf.score(test.drop('converted', axis=1),test['converted']), \n",
    "\"\\n\", \n",
    "\"Test Set Confusion Matrix\", \n",
    "\"\\n\",\n",
    "pd.DataFrame(confusion_matrix(test['converted'], rf.predict(test.drop('converted', axis=1)), labels=[0, 1]))\n",
    ")\n"
   ]
  },
  {
   "cell_type": "markdown",
   "id": "7c7c10e1",
   "metadata": {},
   "source": [
    "### Since the two scores is Similar, we can modify it a bit"
   ]
  },
  {
   "cell_type": "code",
   "execution_count": 16,
   "id": "758ab155",
   "metadata": {},
   "outputs": [
    {
     "data": {
      "text/plain": [
       "(107508, 9)"
      ]
     },
     "execution_count": 16,
     "metadata": {},
     "output_type": "execute_result"
    }
   ],
   "source": [
    "test.shape"
   ]
  },
  {
   "cell_type": "code",
   "execution_count": 17,
   "id": "4ac455b3",
   "metadata": {},
   "outputs": [
    {
     "data": {
      "text/plain": [
       "0.010343416303902965"
      ]
     },
     "execution_count": 17,
     "metadata": {},
     "output_type": "execute_result"
    }
   ],
   "source": [
    "1112/107508"
   ]
  },
  {
   "cell_type": "code",
   "execution_count": 18,
   "id": "240f8ffc",
   "metadata": {},
   "outputs": [
    {
     "data": {
      "text/plain": [
       "<AxesSubplot:>"
      ]
     },
     "execution_count": 18,
     "metadata": {},
     "output_type": "execute_result"
    },
    {
     "data": {
      "image/png": "[encoded data removed]",
      "text/plain": [
       "<Figure size 432x288 with 1 Axes>"
      ]
     },
     "metadata": {
      "needs_background": "light"
     },
     "output_type": "display_data"
    }
   ],
   "source": [
    "sns.barplot(y = train.drop('converted',axis=1).columns,x=rf.feature_importances_)"
   ]
  },
  {
   "cell_type": "markdown",
   "id": "3a484adf",
   "metadata": {},
   "source": [
    "# Another Way"
   ]
  },
  {
   "cell_type": "code",
   "execution_count": 19,
   "id": "168c6fd8",
   "metadata": {},
   "outputs": [
    {
     "data": {
      "text/plain": [
       "<AxesSubplot:>"
      ]
     },
     "execution_count": 19,
     "metadata": {},
     "output_type": "execute_result"
    },
    {
     "data": {
      "image/png": "[encoded data removed]",
      "text/plain": [
       "<Figure size 432x288 with 1 Axes>"
      ]
     },
     "metadata": {
      "needs_background": "light"
     },
     "output_type": "display_data"
    }
   ],
   "source": [
    "feature_imp = pd.Series(rf.feature_importances_,index = train.drop('converted',axis=1).columns)\n",
    "feature_imp.sort_values().plot.barh()"
   ]
  },
  {
   "cell_type": "markdown",
   "id": "255c0050",
   "metadata": {},
   "source": [
    "## Total Pages Visited is Overpowering the Study"
   ]
  },
  {
   "cell_type": "markdown",
   "id": "a928625b",
   "metadata": {},
   "source": [
    "## So we remove it and Build new Models"
   ]
  },
  {
   "cell_type": "code",
   "execution_count": 20,
   "id": "e03070d3",
   "metadata": {},
   "outputs": [
    {
     "data": {
      "text/plain": [
       "RandomForestClassifier(class_weight={0: 1, 1: 10}, max_features=3,\n",
       "                       oob_score=True)"
      ]
     },
     "execution_count": 20,
     "metadata": {},
     "output_type": "execute_result"
    }
   ],
   "source": [
    "rf = RandomForestClassifier(n_estimators=100,max_features=3,oob_score=True,class_weight={0:1,1:10})\n",
    "rf.fit(train.drop(['converted','total_pages_visited'],axis=1),y=train['converted'])"
   ]
  },
  {
   "cell_type": "code",
   "execution_count": 21,
   "id": "53aaa2a7",
   "metadata": {},
   "outputs": [
    {
     "name": "stdout",
     "output_type": "stream",
     "text": [
      "OOB Accuracy 0.8895299247687958\n"
     ]
    }
   ],
   "source": [
    "print('OOB Accuracy',rf.oob_score_)"
   ]
  },
  {
   "cell_type": "code",
   "execution_count": 22,
   "id": "643386ff",
   "metadata": {},
   "outputs": [],
   "source": [
    "feature_imp = pd.Series(rf.feature_importances_,index=train.drop(['converted','total_pages_visited'],axis=1).columns)"
   ]
  },
  {
   "cell_type": "code",
   "execution_count": 23,
   "id": "fd18bd8f",
   "metadata": {},
   "outputs": [
    {
     "data": {
      "text/plain": [
       "<AxesSubplot:>"
      ]
     },
     "execution_count": 23,
     "metadata": {},
     "output_type": "execute_result"
    },
    {
     "data": {
      "image/png": "[encoded data removed]",
      "text/plain": [
       "<Figure size 432x288 with 1 Axes>"
      ]
     },
     "metadata": {
      "needs_background": "light"
     },
     "output_type": "display_data"
    }
   ],
   "source": [
    "feature_imp.sort_values().plot.barh()"
   ]
  },
  {
   "cell_type": "markdown",
   "id": "94ef4178",
   "metadata": {},
   "source": [
    "## SO New User is Very Important"
   ]
  },
  {
   "cell_type": "markdown",
   "id": "f31f553d",
   "metadata": {},
   "source": [
    "# Lets check the 4 variables, through PDPs"
   ]
  },
  {
   "cell_type": "code",
   "execution_count": 24,
   "id": "703fe006",
   "metadata": {},
   "outputs": [],
   "source": [
    "from pdpbox import pdp, info_plots"
   ]
  },
  {
   "cell_type": "code",
   "execution_count": 26,
   "id": "4f91faeb",
   "metadata": {},
   "outputs": [
    {
     "data": {
      "image/png": "[encoded data removed]",
      "text/plain": [
       "<Figure size 432x288 with 1 Axes>"
      ]
     },
     "metadata": {
      "needs_background": "light"
     },
     "output_type": "display_data"
    }
   ],
   "source": [
    "pdp_iso = pdp.pdp_isolate( model=rf, \n",
    "                          dataset=train.drop(['converted', 'total_pages_visited'], axis=1),      \n",
    "                          model_features=list(train.drop(['converted', 'total_pages_visited'], axis=1)), \n",
    "                          feature=['country_Germany', 'country_UK', 'country_US'], \n",
    "                          num_grid_points=50)\n",
    "pdp_dataset = pd.Series(pdp_iso.pdp, index=pdp_iso.display_columns)\n",
    "pdp_dataset.sort_values(ascending=False).plot(kind='bar', title='Country')\n",
    "plt.show()"
   ]
  },
  {
   "cell_type": "markdown",
   "id": "91dbdfca",
   "metadata": {},
   "source": [
    "# Next Variable"
   ]
  },
  {
   "cell_type": "code",
   "execution_count": 38,
   "id": "53c740b7",
   "metadata": {},
   "outputs": [
    {
     "data": {
      "image/png": "[encoded data removed]",
      "text/plain": [
       "<Figure size 432x288 with 1 Axes>"
      ]
     },
     "metadata": {
      "needs_background": "light"
     },
     "output_type": "display_data"
    }
   ],
   "source": [
    "pdp_iso = pdp.pdp_isolate(model=rf,\n",
    "                         dataset = train.drop(['converted','total_pages_visited'],axis=1),\n",
    "                         model_features=list(train.drop(['converted','total_pages_visited'],axis=1)),\n",
    "                         feature=['source_Direct','source_Seo'],\n",
    "                         num_grid_points=50)\n",
    "pdp_dataset=pd.Series(pdp_iso.pdp, index=pdp_iso.display_columns)\n",
    "pdp_dataset.sort_values(ascending=False).plot(kind='bar', title='Source')\n",
    "plt.show()"
   ]
  },
  {
   "cell_type": "markdown",
   "id": "f3c5b351",
   "metadata": {},
   "source": [
    "# Next Variable"
   ]
  },
  {
   "cell_type": "code",
   "execution_count": 42,
   "id": "4e7ded57",
   "metadata": {},
   "outputs": [],
   "source": [
    "pdp_iso = pdp.pdp_isolate(model=rf,\n",
    "                          dataset = train.drop(['converted','total_pages_visited'],axis=1),\n",
    "                         model_features = list(train.drop(['converted','total_pages_visited'],axis=1)),\n",
    "                          feature='new_user',\n",
    "                          num_grid_points=50\n",
    "                         )\n"
   ]
  },
  {
   "cell_type": "code",
   "execution_count": 44,
   "id": "5754a10b",
   "metadata": {},
   "outputs": [
    {
     "data": {
      "image/png": "[encoded data removed]",
      "text/plain": [
       "<Figure size 432x288 with 1 Axes>"
      ]
     },
     "metadata": {
      "needs_background": "light"
     },
     "output_type": "display_data"
    }
   ],
   "source": [
    "pdp_dataset = pd.Series(pdp_iso.pdp, index=pdp_iso.display_columns)\n",
    "pdp_dataset.sort_values(ascending=False).plot(kind='bar', title='New User')\n",
    "plt.show()\n"
   ]
  },
  {
   "cell_type": "markdown",
   "id": "3b685695",
   "metadata": {},
   "source": [
    "# Age"
   ]
  },
  {
   "cell_type": "code",
   "execution_count": 45,
   "id": "4e303a50",
   "metadata": {},
   "outputs": [
    {
     "ename": "NameError",
     "evalue": "name 'pandas' is not defined",
     "output_type": "error",
     "traceback": [
      "\u001b[1;31m---------------------------------------------------------------------------\u001b[0m",
      "\u001b[1;31mNameError\u001b[0m                                 Traceback (most recent call last)",
      "Input \u001b[1;32mIn [45]\u001b[0m, in \u001b[0;36m<cell line: 7>\u001b[1;34m()\u001b[0m\n\u001b[0;32m      1\u001b[0m \u001b[38;5;66;03m#age\u001b[39;00m\n\u001b[0;32m      2\u001b[0m pdp_iso \u001b[38;5;241m=\u001b[39m pdp\u001b[38;5;241m.\u001b[39mpdp_isolate( model\u001b[38;5;241m=\u001b[39mrf, \n\u001b[0;32m      3\u001b[0m                           dataset\u001b[38;5;241m=\u001b[39mtrain\u001b[38;5;241m.\u001b[39mdrop([\u001b[38;5;124m'\u001b[39m\u001b[38;5;124mconverted\u001b[39m\u001b[38;5;124m'\u001b[39m, \u001b[38;5;124m'\u001b[39m\u001b[38;5;124mtotal_pages_visited\u001b[39m\u001b[38;5;124m'\u001b[39m], axis\u001b[38;5;241m=\u001b[39m\u001b[38;5;241m1\u001b[39m),      \n\u001b[0;32m      4\u001b[0m                           model_features\u001b[38;5;241m=\u001b[39m\u001b[38;5;28mlist\u001b[39m(train\u001b[38;5;241m.\u001b[39mdrop([\u001b[38;5;124m'\u001b[39m\u001b[38;5;124mconverted\u001b[39m\u001b[38;5;124m'\u001b[39m, \u001b[38;5;124m'\u001b[39m\u001b[38;5;124mtotal_pages_visited\u001b[39m\u001b[38;5;124m'\u001b[39m], axis\u001b[38;5;241m=\u001b[39m\u001b[38;5;241m1\u001b[39m)), \n\u001b[0;32m      5\u001b[0m                           feature\u001b[38;5;241m=\u001b[39m\u001b[38;5;124m'\u001b[39m\u001b[38;5;124mage\u001b[39m\u001b[38;5;124m'\u001b[39m, \n\u001b[0;32m      6\u001b[0m                           num_grid_points\u001b[38;5;241m=\u001b[39m\u001b[38;5;241m50\u001b[39m)\n\u001b[1;32m----> 7\u001b[0m pdp_dataset \u001b[38;5;241m=\u001b[39m \u001b[43mpandas\u001b[49m\u001b[38;5;241m.\u001b[39mSeries(pdp_iso\u001b[38;5;241m.\u001b[39mpdp, index\u001b[38;5;241m=\u001b[39mpdp_iso\u001b[38;5;241m.\u001b[39mfeature_grids)\n\u001b[0;32m      8\u001b[0m pdp_dataset\u001b[38;5;241m.\u001b[39mplot(title\u001b[38;5;241m=\u001b[39m\u001b[38;5;124m'\u001b[39m\u001b[38;5;124mAge\u001b[39m\u001b[38;5;124m'\u001b[39m)\n\u001b[0;32m      9\u001b[0m plt\u001b[38;5;241m.\u001b[39mshow()\n",
      "\u001b[1;31mNameError\u001b[0m: name 'pandas' is not defined"
     ]
    }
   ],
   "source": [
    "#age\n",
    "pdp_iso = pdp.pdp_isolate( model=rf, \n",
    "                          dataset=train.drop(['converted', 'total_pages_visited'], axis=1),      \n",
    "                          model_features=list(train.drop(['converted', 'total_pages_visited'], axis=1)), \n",
    "                          feature='age', \n",
    "                          num_grid_points=50)\n",
    "pdp_dataset = pandas.Series(pdp_iso.pdp, index=pdp_iso.feature_grids)\n",
    "pdp_dataset.plot(title='Age')\n",
    "plt.show()"
   ]
  },
  {
   "cell_type": "code",
   "execution_count": null,
   "id": "81a006dc",
   "metadata": {},
   "outputs": [],
   "source": []
  }
 ],
 "metadata": {
  "kernelspec": {
   "display_name": "Python 3 (ipykernel)",
   "language": "python",
   "name": "python3"
  },
  "language_info": {
   "codemirror_mode": {
    "name": "ipython",
    "version": 3
   },
   "file_extension": ".py",
   "mimetype": "text/x-python",
   "name": "python",
   "nbconvert_exporter": "python",
   "pygments_lexer": "ipython3",
   "version": "3.8.8"
  }
 },
 "nbformat": 4,
 "nbformat_minor": 5
}
